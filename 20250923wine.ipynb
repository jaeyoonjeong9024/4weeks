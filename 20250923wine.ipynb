{
  "cells": [
    {
      "cell_type": "markdown",
      "metadata": {
        "id": "view-in-github",
        "colab_type": "text"
      },
      "source": [
        "<a href=\"https://colab.research.google.com/github/jaeyoonjeong9024/4weeks/blob/main/20250923wine.ipynb\" target=\"_parent\"><img src=\"https://colab.research.google.com/assets/colab-badge.svg\" alt=\"Open In Colab\"/></a>"
      ]
    },
    {
      "cell_type": "code",
      "source": [
        "from google.colab import drive\n",
        "drive.mount('/content/drive')"
      ],
      "metadata": {
        "id": "-wktLeblMatl",
        "outputId": "ef2f529b-bff6-4e3c-9e70-76066703342e",
        "colab": {
          "base_uri": "https://localhost:8080/"
        }
      },
      "execution_count": 2,
      "outputs": [
        {
          "output_type": "stream",
          "name": "stdout",
          "text": [
            "Drive already mounted at /content/drive; to attempt to forcibly remount, call drive.mount(\"/content/drive\", force_remount=True).\n"
          ]
        }
      ]
    },
    {
      "cell_type": "code",
      "source": [
        "import pandas as pd\n",
        "from sklearn.model_selection import train_test_split\n",
        "from sklearn.tree import DecisionTreeClassifier\n",
        "from sklearn.ensemble import RandomForestClassifier\n",
        "from sklearn.linear_model import LogisticRegression\n",
        "from sklearn.neighbors import KNeighborsClassifier\n",
        "from sklearn.metrics import accuracy_score, confusion_matrix\n",
        "from sklearn.preprocessing import LabelEncoder\n",
        "\n",
        "# 데이터 불러오기\n",
        "df = pd.read_csv(\"/content/drive/MyDrive/wine.csv\")\n",
        "print(f\"데이터 크기: {df.shape}\")\n",
        "\n",
        "# 결측치 제거\n",
        "df = df.dropna()\n",
        "print(f\"결측치 제거 후: {df.shape}\")\n",
        "\n",
        "# 문자형 데이터를 숫자로 변환\n",
        "for column in df.columns:\n",
        "    if df[column].dtype == 'object':\n",
        "        le = LabelEncoder()\n",
        "        df[column] = le.fit_transform(df[column])\n",
        "\n",
        "# 타겟 컬럼 (마지막 컬럼을 타겟으로 가정)\n",
        "target_column = df.columns[-1]\n",
        "X = df.drop(columns=[target_column])\n",
        "y = df[target_column]\n",
        "\n",
        "# 훈련/테스트 분리\n",
        "X_train, X_test, y_train, y_test = train_test_split(\n",
        "    X, y, test_size=0.2, random_state=42\n",
        ")\n",
        "\n",
        "# 모델 학습\n",
        "knn = KNeighborsClassifier(n_neighbors=5)\n",
        "dt = DecisionTreeClassifier(random_state=42)\n",
        "rf = RandomForestClassifier(n_estimators=100, random_state=42)\n",
        "lr = LogisticRegression(max_iter=1000)\n",
        "\n",
        "knn.fit(X_train, y_train)\n",
        "dt.fit(X_train, y_train)\n",
        "rf.fit(X_train, y_train)\n",
        "lr.fit(X_train, y_train)\n",
        "\n",
        "# 예측 및 평가\n",
        "models = {'KNN': knn, 'Decision Tree': dt, 'Random Forest': rf, 'Logistic Regression': lr}\n",
        "\n",
        "for name, model in models.items():\n",
        "    y_pred = model.predict(X_test)\n",
        "    accuracy = accuracy_score(y_test, y_pred)\n",
        "    print(f\"\\n{name} 정확도: {accuracy:.4f}\")\n",
        "    print(\"혼동 행렬:\")\n",
        "    print(confusion_matrix(y_test, y_pred))"
      ],
      "metadata": {
        "id": "bINCKIi0MhSu",
        "outputId": "81ac9ab6-4d7c-4d23-ef8d-43190608dd7e",
        "colab": {
          "base_uri": "https://localhost:8080/"
        }
      },
      "execution_count": 4,
      "outputs": [
        {
          "output_type": "stream",
          "name": "stdout",
          "text": [
            "데이터 크기: (6497, 4)\n",
            "결측치 제거 후: (6497, 4)\n",
            "\n",
            "KNN 정확도: 0.8546\n",
            "혼동 행렬:\n",
            "[[234 107]\n",
            " [ 82 877]]\n",
            "\n",
            "Decision Tree 정확도: 0.8585\n",
            "혼동 행렬:\n",
            "[[251  90]\n",
            " [ 94 865]]\n",
            "\n",
            "Random Forest 정확도: 0.8892\n",
            "혼동 행렬:\n",
            "[[266  75]\n",
            " [ 69 890]]\n",
            "\n",
            "Logistic Regression 정확도: 0.7762\n",
            "혼동 행렬:\n",
            "[[123 218]\n",
            " [ 73 886]]\n"
          ]
        }
      ]
    }
  ],
  "metadata": {
    "colab": {
      "name": "Colab 시작하기",
      "provenance": [],
      "include_colab_link": true
    },
    "kernelspec": {
      "display_name": "Python 3",
      "name": "python3"
    }
  },
  "nbformat": 4,
  "nbformat_minor": 0
}