{
  "cells": [
    {
      "cell_type": "markdown",
      "metadata": {
        "id": "view-in-github",
        "colab_type": "text"
      },
      "source": [
        "<a href=\"https://colab.research.google.com/github/jaeyoonjeong9024/4weeks/blob/main/20250923wine.ipynb\" target=\"_parent\"><img src=\"https://colab.research.google.com/assets/colab-badge.svg\" alt=\"Open In Colab\"/></a>"
      ]
    },
    {
      "cell_type": "code",
      "source": [
        "# 다른 경로 예시들\n",
        "df = pd.read_csv(\"/content/drive/MyDrive/winequality-white.csv\", sep=';')  # 루트 디렉토리\n"
      ],
      "metadata": {
        "id": "FxW_m7AGURES"
      },
      "execution_count": 13,
      "outputs": []
    },
    {
      "cell_type": "code",
      "source": [
        "import pandas as pd\n",
        "from sklearn.model_selection import train_test_split\n",
        "from sklearn.tree import DecisionTreeClassifier\n",
        "from sklearn.ensemble import RandomForestClassifier\n",
        "from sklearn.linear_model import LogisticRegression\n",
        "from sklearn.neighbors import KNeighborsClassifier\n",
        "from sklearn.metrics import accuracy_score\n",
        "from sklearn.preprocessing import LabelEncoder, StandardScaler\n",
        "\n",
        "# 데이터 불러오기\n",
        "df = pd.read_csv(\"/content/drive/MyDrive/winequality-white.csv\", sep=';')\n",
        "\n",
        "# 결측치 제거\n",
        "df = df.dropna()\n",
        "\n",
        "# 라벨 인코딩\n",
        "for column in df.columns:\n",
        "    if df[column].dtype == 'object':\n",
        "        le = LabelEncoder()\n",
        "        df[column] = le.fit_transform(df[column])\n",
        "\n",
        "# 입력과 출력 분리\n",
        "target_column = df.columns[-1]\n",
        "X = df.drop(columns=[target_column])\n",
        "y = df[target_column]\n",
        "\n",
        "# 스케일링\n",
        "scaler = StandardScaler()\n",
        "X_scaled = scaler.fit_transform(X)\n",
        "X_scaled = pd.DataFrame(X_scaled, columns=X.columns)\n",
        "\n",
        "# 훈련/테스트 분리\n",
        "X_train, X_test, y_train, y_test = train_test_split(\n",
        "    X_scaled, y, test_size=0.2, random_state=42\n",
        ")\n",
        "\n",
        "# 모델 학습\n",
        "knn = KNeighborsClassifier(n_neighbors=5)\n",
        "dt = DecisionTreeClassifier(random_state=42)\n",
        "rf = RandomForestClassifier(n_estimators=100, random_state=42)\n",
        "lr = LogisticRegression(max_iter=1000, random_state=42)\n",
        "\n",
        "knn.fit(X_train, y_train)\n",
        "dt.fit(X_train, y_train)\n",
        "rf.fit(X_train, y_train)\n",
        "lr.fit(X_train, y_train)\n",
        "\n",
        "# 정확도\n",
        "models = {'KNN': knn, 'Decision Tree': dt, 'Random Forest': rf, 'Logistic Regression': lr}\n",
        "\n",
        "for name, model in models.items():\n",
        "    y_pred = model.predict(X_test)\n",
        "    accuracy = accuracy_score(y_test, y_pred)\n",
        "    print(f\"{name}: {accuracy:.4f}\")\n",
        "\n",
        "# Weight(기울기)와 Bias(절편)\n",
        "print(\"Weight:\")\n",
        "for i, feature in enumerate(X.columns):\n",
        "    print(f\"{feature}: {lr.coef_[0][i]:.4f}\")\n",
        "print(f\"Bias: {lr.intercept_[0]:.4f}\")"
      ],
      "metadata": {
        "colab": {
          "base_uri": "https://localhost:8080/"
        },
        "id": "AUMWyB_KWVMe",
        "outputId": "b660b71b-e789-46ee-92c7-e24823aca267"
      },
      "execution_count": 20,
      "outputs": [
        {
          "output_type": "stream",
          "name": "stdout",
          "text": [
            "KNN: 0.5490\n",
            "Decision Tree: 0.6071\n",
            "Random Forest: 0.6898\n",
            "Logistic Regression: 0.5306\n",
            "Weight:\n",
            "fixed acidity: 0.7918\n",
            "volatile acidity: 0.5261\n",
            "citric acid: -0.0062\n",
            "residual sugar: -0.3486\n",
            "chlorides: 0.5032\n",
            "free sulfur dioxide: 0.4731\n",
            "total sulfur dioxide: -0.2189\n",
            "density: -0.0940\n",
            "pH: 0.2690\n",
            "sulphates: -0.3365\n",
            "alcohol: -0.4378\n",
            "Bias: -2.4432\n"
          ]
        }
      ]
    }
  ],
  "metadata": {
    "colab": {
      "name": "Colab 시작하기",
      "provenance": [],
      "include_colab_link": true
    },
    "kernelspec": {
      "display_name": "Python 3",
      "name": "python3"
    }
  },
  "nbformat": 4,
  "nbformat_minor": 0
}